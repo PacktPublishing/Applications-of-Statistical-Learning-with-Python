{
 "cells": [
  {
   "cell_type": "markdown",
   "metadata": {},
   "source": [
    "# Getting Familiar With NLTK\n",
    "*Curtis Miller*\n",
    "\n",
    "In this notebook I will demonstrate some common usage of the Python [Natural Language Toolkit (NLTK)](https://www.nltk.org/), a package for working with natural languages.\n",
    "\n",
    "Below we load in NLTK (assumed to be installed)."
   ]
  },
  {
   "cell_type": "code",
   "execution_count": null,
   "metadata": {
    "collapsed": true
   },
   "outputs": [],
   "source": [
    "import nltk\n",
    "import sys, os\n",
    "import string"
   ]
  },
  {
   "cell_type": "markdown",
   "metadata": {},
   "source": [
    "Run the following line to run an app for getting NLTK data, if you need to do so."
   ]
  },
  {
   "cell_type": "code",
   "execution_count": null,
   "metadata": {},
   "outputs": [],
   "source": [
    "nltk.download()"
   ]
  },
  {
   "cell_type": "markdown",
   "metadata": {},
   "source": [
    "## Loading In NLTK Corpora\n",
    "\n",
    "In addition to providing useful tools for working with natural languages, NLTK provides a large dataset of texts (or text corpora). This is useful not only for practice but also for training NLP algorithms (like taggers)."
   ]
  },
  {
   "cell_type": "code",
   "execution_count": null,
   "metadata": {},
   "outputs": [],
   "source": [
    "nltk.corpus.gutenberg.fileids()    # Files in the Gutenberg corpus, files that came from Project Gutenberg\n",
    "                                   # http://www.gutenberg.org/"
   ]
  },
  {
   "cell_type": "code",
   "execution_count": null,
   "metadata": {},
   "outputs": [],
   "source": [
    "bible = nltk.corpus.gutenberg.words('bible-kjv.txt')\n",
    "bible[:5]"
   ]
  },
  {
   "cell_type": "markdown",
   "metadata": {},
   "source": [
    "We can then turn this into a `Text` object, which provides a lot of useful methods for working with the documents."
   ]
  },
  {
   "cell_type": "code",
   "execution_count": null,
   "metadata": {},
   "outputs": [],
   "source": [
    "bible = nltk.Text(bible)\n",
    "bible[:5]"
   ]
  },
  {
   "cell_type": "code",
   "execution_count": null,
   "metadata": {},
   "outputs": [],
   "source": [
    "bible.concordance(\"david\")    # A concordance; lists contexts in which words appeared"
   ]
  },
  {
   "cell_type": "code",
   "execution_count": null,
   "metadata": {},
   "outputs": [],
   "source": [
    "bible.count(\"David\")    # How many times to we see \"David\"?"
   ]
  },
  {
   "cell_type": "code",
   "execution_count": null,
   "metadata": {},
   "outputs": [],
   "source": [
    "bible.collocations()    # Common combinations of words"
   ]
  },
  {
   "cell_type": "code",
   "execution_count": null,
   "metadata": {},
   "outputs": [],
   "source": [
    "bible.common_contexts([\"David\"])    # Common context in which \"David\" appears"
   ]
  },
  {
   "cell_type": "code",
   "execution_count": null,
   "metadata": {},
   "outputs": [],
   "source": [
    "bible.dispersion_plot([\"David\"])    # A dispersion plot, showing where a word (or words) appeared"
   ]
  },
  {
   "cell_type": "code",
   "execution_count": null,
   "metadata": {},
   "outputs": [],
   "source": [
    "bible.vocab()    # Words that appear in bible; a FreqDist object, with keys being words and values being number of times\n",
    "                 # word appeared"
   ]
  },
  {
   "cell_type": "code",
   "execution_count": null,
   "metadata": {},
   "outputs": [],
   "source": [
    "bible.findall(\"<.*><David><.*>\")    # Find using regular expressions, with each token"
   ]
  },
  {
   "cell_type": "code",
   "execution_count": null,
   "metadata": {},
   "outputs": [],
   "source": [
    "bible.vocab().plot(10)"
   ]
  },
  {
   "cell_type": "markdown",
   "metadata": {
    "collapsed": true
   },
   "source": [
    "We can save text in a directory and create our own corpora for working with. Below is a demonstration, using the text files stored in the `books` directory."
   ]
  },
  {
   "cell_type": "code",
   "execution_count": null,
   "metadata": {},
   "outputs": [],
   "source": [
    "books_dir = os.path.abspath('books')    # Need absolute path to directory\n",
    "books = nltk.corpus.PlaintextCorpusReader(books_dir, '.*\\.txt')    # Create corpus\n",
    "books.fileids()"
   ]
  },
  {
   "cell_type": "code",
   "execution_count": null,
   "metadata": {},
   "outputs": [],
   "source": [
    "ulysses = nltk.Text(books.words('JamesJoyceUlysses.txt'))\n",
    "ulysses[:5]"
   ]
  },
  {
   "cell_type": "markdown",
   "metadata": {},
   "source": [
    "## NLTK Lexical Resources\n",
    "\n",
    "NLTK provides a number of lexical resources, such as:\n",
    "\n",
    "* Wordlists\n",
    "* Pronunciation dictionaries\n",
    "* WordNet\n",
    "\n",
    "These exist for multiple languages, and resources for comparing and characterizing languages (such as comparative word lists and toolboxes) also exist.\n",
    "\n",
    "For example, we have a list for stopwords in English (words that appear with high frequency but don't distinguish texts)."
   ]
  },
  {
   "cell_type": "code",
   "execution_count": null,
   "metadata": {},
   "outputs": [],
   "source": [
    "nltk.corpus.stopwords.words('english')"
   ]
  },
  {
   "cell_type": "markdown",
   "metadata": {},
   "source": [
    "WordNet relates words together. For instance, some words are synonyms (they have similar meanings), a word could be the hyponym of another word (it is a generalization of the word) or a hypernym (it is a specific instance of another word). If the word is a noun, it may have parts, which are referred to as meronyms, and may belong to a noun that is considered a holonym.\n",
    "\n",
    "Let's work with the synset (collection of synonyms) for the word \"person\"."
   ]
  },
  {
   "cell_type": "code",
   "execution_count": null,
   "metadata": {
    "collapsed": true
   },
   "outputs": [],
   "source": [
    "from nltk.corpus import wordnet as wn"
   ]
  },
  {
   "cell_type": "code",
   "execution_count": null,
   "metadata": {
    "collapsed": true
   },
   "outputs": [],
   "source": [
    "person = wn.synset('person.n.01')    # Create the synset"
   ]
  },
  {
   "cell_type": "code",
   "execution_count": null,
   "metadata": {},
   "outputs": [],
   "source": [
    "person.name()"
   ]
  },
  {
   "cell_type": "code",
   "execution_count": null,
   "metadata": {},
   "outputs": [],
   "source": [
    "person.hyponyms()"
   ]
  },
  {
   "cell_type": "code",
   "execution_count": null,
   "metadata": {},
   "outputs": [],
   "source": [
    "person.hypernyms()"
   ]
  },
  {
   "cell_type": "code",
   "execution_count": null,
   "metadata": {},
   "outputs": [],
   "source": [
    "person.part_meronyms()"
   ]
  },
  {
   "cell_type": "code",
   "execution_count": null,
   "metadata": {},
   "outputs": [],
   "source": [
    "person.member_holonyms()"
   ]
  },
  {
   "cell_type": "markdown",
   "metadata": {},
   "source": [
    "WordNet provides us a means for seeing how similar words are, and how general a word is."
   ]
  },
  {
   "cell_type": "code",
   "execution_count": null,
   "metadata": {},
   "outputs": [],
   "source": [
    "person.min_depth()"
   ]
  },
  {
   "cell_type": "code",
   "execution_count": null,
   "metadata": {},
   "outputs": [],
   "source": [
    "wn.synset('creature.n.01').min_depth()    # Bigger number => more general"
   ]
  },
  {
   "cell_type": "code",
   "execution_count": null,
   "metadata": {},
   "outputs": [],
   "source": [
    "person.path_similarity(wn.synset(\"capitalist.n.01\"))    # How similar two words are"
   ]
  },
  {
   "cell_type": "code",
   "execution_count": null,
   "metadata": {},
   "outputs": [],
   "source": [
    "person.path_similarity(wn.synset(\"cat.n.01\"))"
   ]
  },
  {
   "cell_type": "markdown",
   "metadata": {},
   "source": [
    "NLTK has many other useful tools for working with natural languages. We will see more in future videos."
   ]
  }
 ],
 "metadata": {
  "kernelspec": {
   "display_name": "Python 3",
   "language": "python",
   "name": "python3"
  },
  "language_info": {
   "codemirror_mode": {
    "name": "ipython",
    "version": 3
   },
   "file_extension": ".py",
   "mimetype": "text/x-python",
   "name": "python",
   "nbconvert_exporter": "python",
   "pygments_lexer": "ipython3",
   "version": "3.6.2"
  }
 },
 "nbformat": 4,
 "nbformat_minor": 2
}
