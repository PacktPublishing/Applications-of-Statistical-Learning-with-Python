{
 "cells": [
  {
   "cell_type": "markdown",
   "metadata": {},
   "source": [
    "# Finding Interesting Points\n",
    "*Curtis Miller*\n",
    "\n",
    "In images we want to find interesting points such as corners or faces. In this demonstration I demonstrate what point detection is like with OpenCV.\n",
    "\n",
    "## Corner Detection\n",
    "\n",
    "Our first application is finding corners in images."
   ]
  },
  {
   "cell_type": "code",
   "execution_count": null,
   "metadata": {},
   "outputs": [],
   "source": [
    "import cv2\n",
    "import matplotlib.pyplot as plt\n",
    "import matplotlib\n",
    "import numpy as np\n",
    "%matplotlib inline\n",
    "matplotlib.rcParams['figure.figsize'] = (18, 16)"
   ]
  },
  {
   "cell_type": "code",
   "execution_count": null,
   "metadata": {},
   "outputs": [],
   "source": [
    "house = cv2.imread(\"house.png\")\n",
    "house_gray = cv2.cvtColor(house, cv2.COLOR_BGR2GRAY)\n",
    "plt.imshow(house_gray, cmap=\"gray\")"
   ]
  },
  {
   "cell_type": "markdown",
   "metadata": {},
   "source": [
    "The `goodFeaturesToTrack()` function uses algorithms for finding features (such as corners) that are \"interesting\", and gives their coordinates."
   ]
  },
  {
   "cell_type": "code",
   "execution_count": null,
   "metadata": {},
   "outputs": [],
   "source": [
    "corners = np.int0(cv2.goodFeaturesToTrack(house_gray,    # Image\n",
    "                                          100,   # Maximum number of corners\n",
    "                                          0.03,  # Corner quality\n",
    "                                          100))  # Minimum Euclidean distance between corners\n",
    "\n",
    "corners"
   ]
  },
  {
   "cell_type": "code",
   "execution_count": null,
   "metadata": {},
   "outputs": [],
   "source": [
    "plt.imshow(house_gray, cmap=\"gray\")\n",
    "for i in corners:\n",
    "    x, y = i.ravel()\n",
    "    plt.plot(x, y, 'ro')\n",
    "\n",
    "plt.show()"
   ]
  },
  {
   "cell_type": "markdown",
   "metadata": {},
   "source": [
    "## Face Detection\n",
    "\n",
    "The next application finds facial features, such as the face, eyes, and mouth, and marks their location. The actual algorithm is finding a rectangle of interest (ROI), a region believed to contain a face or eye. I will mark the location of these features with a point.\n",
    "\n",
    "Below is the image we will work with."
   ]
  },
  {
   "cell_type": "code",
   "execution_count": null,
   "metadata": {},
   "outputs": [],
   "source": [
    "facedetect = cv2.CascadeClassifier('haarcascade_frontalface_default.xml')\n",
    "eyedetect = cv2.CascadeClassifier('haarcascade_eye.xml')\n",
    "mouthdetect = cv2.CascadeClassifier('haarcascade_smile.xml')\n",
    "\n",
    "family = cv2.imread('family.jpg')\n",
    "family_gray = cv2.cvtColor(family, cv2.COLOR_BGR2GRAY)\n",
    "plt.imshow(family_gray, cmap=\"gray\")"
   ]
  },
  {
   "cell_type": "markdown",
   "metadata": {},
   "source": [
    "We can load in XML files with instructions for pre-built feature detection algorithms, provided by OpenCV. (OpenCV does provide tools for building our own detection algorithms so we can detect other interesting objects, like cars.)"
   ]
  },
  {
   "cell_type": "code",
   "execution_count": null,
   "metadata": {},
   "outputs": [],
   "source": [
    "faces = facedetect.detectMultiScale(family_gray, 1.3, 5)\n",
    "\n",
    "faces    # In Rectangle of Interest (ROI) format: x, y, width, height; (0, 0) is upper-left corner"
   ]
  },
  {
   "cell_type": "code",
   "execution_count": null,
   "metadata": {
    "scrolled": false
   },
   "outputs": [],
   "source": [
    "plt.imshow(family_gray, cmap=\"gray\")\n",
    "\n",
    "for f in faces:\n",
    "    x, y, w, h = f\n",
    "    facemat = family_gray[x:(x + w), y:(y + h)]\n",
    "    eyes = eyedetect.detectMultiScale(facemat, 1.7, 5)\n",
    "    for e in eyes:\n",
    "        ex, ey, ew, eh = e\n",
    "        plt.plot(x + ex + ew/2, y + ey + eh/2, 'bo')\n",
    "    mouth = mouthdetect.detectMultiScale(facemat, 1.7, 11)\n",
    "    for m in mouth:\n",
    "        mx, my, mw, mh = m\n",
    "        plt.plot(x + mx + mw/2, y + my + mh/2, 'yo')\n",
    "    plt.plot(x + w/2, y + h/2, 'ro')\n",
    "\n",
    "plt.show()"
   ]
  },
  {
   "cell_type": "markdown",
   "metadata": {},
   "source": [
    "The algorithm managed to detect three faces, but did not do a good job in detecting facial features (eyes and mouths) on two of the individuals in the picture."
   ]
  }
 ],
 "metadata": {
  "kernelspec": {
   "display_name": "Python 3",
   "language": "python",
   "name": "python3"
  },
  "language_info": {
   "codemirror_mode": {
    "name": "ipython",
    "version": 3
   },
   "file_extension": ".py",
   "mimetype": "text/x-python",
   "name": "python",
   "nbconvert_exporter": "python",
   "pygments_lexer": "ipython3",
   "version": "3.6.2"
  }
 },
 "nbformat": 4,
 "nbformat_minor": 2
}
