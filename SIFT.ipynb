{
 "cells": [
  {
   "cell_type": "markdown",
   "metadata": {},
   "source": [
    "# Learning to SIFT: Scale Invariant Feature Transform\n",
    "*Curtis Miller*\n",
    "\n",
    "Scale invariant feature transform (SIFT) is a more robust method for detecting interesting points (such as corners) in images compared to some of the earlier methods. The other methods are robust to rotation (a corner is still a corner even if the image is rotated), but not necessarily to scaling (making the image larger or smaller may cause corners to no longer look like corners). The SIFT algorithm addresses this problem and finds corners that hold under rotation and scaling, along with additional information about the points (such as their orientation).\n",
    "\n",
    "SIFT is often used to match images together. That is, it can be used to identify common features in images, and thus can identify an object in one image as also being present in another image, or provide a form of object permanence. Again, it is a form of feature creation for images."
   ]
  },
  {
   "cell_type": "code",
   "execution_count": null,
   "metadata": {},
   "outputs": [],
   "source": [
    "import cv2\n",
    "import matplotlib.pyplot as plt\n",
    "import matplotlib\n",
    "import numpy as np\n",
    "%matplotlib inline\n",
    "matplotlib.rcParams['figure.figsize'] = (18, 16)"
   ]
  },
  {
   "cell_type": "code",
   "execution_count": null,
   "metadata": {},
   "outputs": [],
   "source": [
    "house = cv2.imread(\"house.png\")\n",
    "house_gray = cv2.cvtColor(house, cv2.COLOR_BGR2GRAY)\n",
    "plt.imshow(house_gray, cmap=\"gray\")"
   ]
  },
  {
   "cell_type": "code",
   "execution_count": null,
   "metadata": {},
   "outputs": [],
   "source": [
    "sift = cv2.xfeatures2d.SIFT_create(sigma=4)\n",
    "corners = sift.detect(house_gray)\n",
    "\n",
    "corners[:5]"
   ]
  },
  {
   "cell_type": "code",
   "execution_count": null,
   "metadata": {},
   "outputs": [],
   "source": [
    "plt.imshow(cv2.drawKeypoints(house_gray, corners, house.copy()))"
   ]
  },
  {
   "cell_type": "markdown",
   "metadata": {},
   "source": [
    "Below we plot the key points found via SIFT but with additional information (such as orientation of the corner)."
   ]
  },
  {
   "cell_type": "code",
   "execution_count": null,
   "metadata": {},
   "outputs": [],
   "source": [
    "plt.imshow(cv2.drawKeypoints(house_gray, corners, house.copy(), flags=cv2.DRAW_MATCHES_FLAGS_DRAW_RICH_KEYPOINTS))"
   ]
  }
 ],
 "metadata": {
  "kernelspec": {
   "display_name": "Python 3",
   "language": "python",
   "name": "python3"
  },
  "language_info": {
   "codemirror_mode": {
    "name": "ipython",
    "version": 3
   },
   "file_extension": ".py",
   "mimetype": "text/x-python",
   "name": "python",
   "nbconvert_exporter": "python",
   "pygments_lexer": "ipython3",
   "version": "3.6.2"
  }
 },
 "nbformat": 4,
 "nbformat_minor": 2
}
