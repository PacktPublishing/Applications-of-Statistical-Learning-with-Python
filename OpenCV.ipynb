{
 "cells": [
  {
   "cell_type": "markdown",
   "metadata": {},
   "source": [
    "# Working With OpenCV\n",
    "*Curtis Miller*\n",
    "\n",
    "OpenCV is a library for computer vision. In this notebook I demonstrate basic usage of OpenCV.\n",
    "\n",
    "## Saving, Loading, and Converting Images\n",
    "\n",
    "Our first task is to load in images. We can do this with OpenCV.\n",
    "\n",
    "The default color format for OpenCV is not RGB but instead BGR (which is RGB in reverse), but we can easily convert between different color palettes."
   ]
  },
  {
   "cell_type": "code",
   "execution_count": null,
   "metadata": {
    "collapsed": true
   },
   "outputs": [],
   "source": [
    "import cv2\n",
    "import matplotlib.pyplot as plt\n",
    "import matplotlib\n",
    "import numpy as np\n",
    "%matplotlib inline\n",
    "matplotlib.rcParams['figure.figsize'] = (18, 16)"
   ]
  },
  {
   "cell_type": "code",
   "execution_count": null,
   "metadata": {
    "collapsed": true,
    "scrolled": true
   },
   "outputs": [],
   "source": [
    "house = cv2.imread(\"house.png\")"
   ]
  },
  {
   "cell_type": "code",
   "execution_count": null,
   "metadata": {},
   "outputs": [],
   "source": [
    "plt.imshow(house)    # Colors are off"
   ]
  },
  {
   "cell_type": "markdown",
   "metadata": {},
   "source": [
    "The default color format for OpenCV is BGR (opposite of RGB), so we will need to convert colors."
   ]
  },
  {
   "cell_type": "code",
   "execution_count": null,
   "metadata": {},
   "outputs": [],
   "source": [
    "house = cv2.cvtColor(house, cv2.COLOR_BGR2RGB)\n",
    "plt.imshow(house)"
   ]
  },
  {
   "cell_type": "code",
   "execution_count": null,
   "metadata": {
    "scrolled": false
   },
   "outputs": [],
   "source": [
    "gray_house = cv2.cvtColor(house, cv2.COLOR_RGB2GRAY)\n",
    "plt.imshow(gray_house, cmap=\"gray\")"
   ]
  },
  {
   "cell_type": "code",
   "execution_count": null,
   "metadata": {},
   "outputs": [],
   "source": [
    "plt.imshow(cv2.integral(gray_house), cmap=\"gray\")    # Integral image"
   ]
  },
  {
   "cell_type": "code",
   "execution_count": null,
   "metadata": {},
   "outputs": [],
   "source": [
    "house2 = cv2.imread(\"house2.jpg\")    # Another house\n",
    "cv2.imwrite(\"house2.png\", house2)    # Saving the image\n",
    "plt.imshow(house2)"
   ]
  },
  {
   "cell_type": "code",
   "execution_count": null,
   "metadata": {},
   "outputs": [],
   "source": [
    "house2 = cv2.cvtColor(house2, cv2.COLOR_BGR2RGB)\n",
    "plt.imshow(house2)"
   ]
  },
  {
   "cell_type": "code",
   "execution_count": null,
   "metadata": {},
   "outputs": [],
   "source": [
    "house2_gray = cv2.cvtColor(house2, cv2.COLOR_RGB2GRAY)\n",
    "plt.imshow(cv2.integral(house2_gray), cmap=\"gray\")"
   ]
  },
  {
   "cell_type": "markdown",
   "metadata": {},
   "source": [
    "## Scaling, Translation, Rotation\n",
    "\n",
    "Basic image operations involve scaling, translation, and rotation. Our two images do not have the same dimension. Let's demonstrate these operations to get compatable images."
   ]
  },
  {
   "cell_type": "code",
   "execution_count": null,
   "metadata": {},
   "outputs": [],
   "source": [
    "type(house)     # These objects are actually NumPy arrays"
   ]
  },
  {
   "cell_type": "code",
   "execution_count": null,
   "metadata": {},
   "outputs": [],
   "source": [
    "house.shape"
   ]
  },
  {
   "cell_type": "code",
   "execution_count": null,
   "metadata": {},
   "outputs": [],
   "source": [
    "house2.shape"
   ]
  },
  {
   "cell_type": "code",
   "execution_count": null,
   "metadata": {},
   "outputs": [],
   "source": [
    "house = cv2.resize(house, house2.shape[1::-1], interpolation=cv2.INTER_CUBIC)\n",
    "plt.imshow(house)"
   ]
  },
  {
   "cell_type": "code",
   "execution_count": null,
   "metadata": {},
   "outputs": [],
   "source": [
    "plt.imshow(cv2.warpAffine(house, np.array([[1, 0, 200],\n",
    "                                           [0, 1, 100]], dtype=np.float32),\n",
    "                          (house.shape[1::-1])))     # Moves the image 200 pixels over and 100 pixels down"
   ]
  },
  {
   "cell_type": "code",
   "execution_count": null,
   "metadata": {},
   "outputs": [],
   "source": [
    "R = cv2.getRotationMatrix2D(house.shape[1::-1], angle=45, scale=1)    # A 45 degree rotation\n",
    "R"
   ]
  },
  {
   "cell_type": "code",
   "execution_count": null,
   "metadata": {},
   "outputs": [],
   "source": [
    "plt.imshow(cv2.warpAffine(house, R, house.shape[1::-1]))"
   ]
  },
  {
   "cell_type": "markdown",
   "metadata": {},
   "source": [
    "## Image Arithmetic\n",
    "\n",
    "We can combine images using simple arithmetic. We can add them directly or blend them, adding them in such a way that pixels of the new image are a mixture of pixels of the two images."
   ]
  },
  {
   "cell_type": "code",
   "execution_count": null,
   "metadata": {},
   "outputs": [],
   "source": [
    "plt.imshow(cv2.add(house, house2))"
   ]
  },
  {
   "cell_type": "code",
   "execution_count": null,
   "metadata": {
    "scrolled": false
   },
   "outputs": [],
   "source": [
    "plt.imshow(cv2.addWeighted(house, 0.3, house2, 0.7, gamma=0))"
   ]
  },
  {
   "cell_type": "markdown",
   "metadata": {},
   "source": [
    "We can perform bitwise operations like `AND`, `OR`, `XOR` as well; below I demonstrate by adding a smiley face logo to a house image."
   ]
  },
  {
   "cell_type": "code",
   "execution_count": null,
   "metadata": {
    "scrolled": false
   },
   "outputs": [],
   "source": [
    "house_roi = house[:, :,]\n",
    "\n",
    "smile = cv2.cvtColor(cv2.imread(\"smile.png\"), cv2.COLOR_BGR2RGB)\n",
    "plt.imshow(smile)"
   ]
  },
  {
   "cell_type": "code",
   "execution_count": null,
   "metadata": {},
   "outputs": [],
   "source": [
    "smilegray = cv2.cvtColor(smile, cv2.COLOR_RGB2GRAY)\n",
    "smileret, smilemask = cv2.threshold(smilegray, 10, 255, cv2.THRESH_BINARY)\n",
    "smilemask_inv = cv2.bitwise_not(smilemask)\n",
    "plt.imshow(smilemask)"
   ]
  },
  {
   "cell_type": "code",
   "execution_count": null,
   "metadata": {},
   "outputs": [],
   "source": [
    "house_bg = cv2.bitwise_and(house_roi, house_roi, mask = smilemask_inv[:house_roi.shape[0], :house_roi.shape[1]])\n",
    "smile_fg = cv2.bitwise_and(smile, smile, mask = smilemask)\n",
    "dst = cv2.add(house_bg[:house_roi.shape[0], :house_roi.shape[1]],\n",
    "              smile_fg[:house_roi.shape[0], :house_roi.shape[1]])\n",
    "\n",
    "plt.imshow(dst)"
   ]
  },
  {
   "cell_type": "markdown",
   "metadata": {},
   "source": [
    "There are a lot of tools in the package, including working with videos. We will see more use later."
   ]
  }
 ],
 "metadata": {
  "kernelspec": {
   "display_name": "Python 3",
   "language": "python",
   "name": "python3"
  },
  "language_info": {
   "codemirror_mode": {
    "name": "ipython",
    "version": 3
   },
   "file_extension": ".py",
   "mimetype": "text/x-python",
   "name": "python",
   "nbconvert_exporter": "python",
   "pygments_lexer": "ipython3",
   "version": "3.6.2"
  }
 },
 "nbformat": 4,
 "nbformat_minor": 2
}
