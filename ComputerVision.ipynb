{
 "cells": [
  {
   "cell_type": "markdown",
   "metadata": {},
   "source": [
    "# Diving Into Computer Vision\n",
    "*Curtis Miller*\n",
    "\n",
    "In this notebook I demonstrate how to use some tools for basic image manipulation; specifically, we will see how to use the Python Image Library (PIL), how to see images using matplotlib, how to create NumPy arrays from images, and using SciPy with images.\n",
    "\n",
    "## PIL and Matplotlib\n",
    "\n",
    "Here I work with PNG format images. Below I show how to load in an image with PIL and view it with matplotlib."
   ]
  },
  {
   "cell_type": "code",
   "execution_count": null,
   "metadata": {
    "collapsed": true
   },
   "outputs": [],
   "source": [
    "import PIL\n",
    "import matplotlib\n",
    "import matplotlib.pyplot as plt\n",
    "import numpy as np\n",
    "import copy\n",
    "from scipy.interpolate import griddata\n",
    "%matplotlib inline\n",
    "matplotlib.rcParams['figure.figsize'] = (18, 16)"
   ]
  },
  {
   "cell_type": "code",
   "execution_count": null,
   "metadata": {},
   "outputs": [],
   "source": [
    "house = PIL.Image.open(\"house.png\")\n",
    "plt.imshow(house)"
   ]
  },
  {
   "cell_type": "markdown",
   "metadata": {},
   "source": [
    "If we want to see the image in grayscale, we will need to convert it. Below converts to grayscale."
   ]
  },
  {
   "cell_type": "code",
   "execution_count": null,
   "metadata": {},
   "outputs": [],
   "source": [
    "plt.imshow(house.convert('L'))    # Converts to grayscale, which is not how it appears in plot"
   ]
  },
  {
   "cell_type": "code",
   "execution_count": null,
   "metadata": {},
   "outputs": [],
   "source": [
    "plt.imshow(house.convert('L'), cmap=\"hot\")"
   ]
  },
  {
   "cell_type": "code",
   "execution_count": null,
   "metadata": {},
   "outputs": [],
   "source": [
    "plt.imshow(house.convert('L'), cmap=\"gray\")"
   ]
  },
  {
   "cell_type": "markdown",
   "metadata": {},
   "source": [
    "The `rotate()` method rotates an image."
   ]
  },
  {
   "cell_type": "code",
   "execution_count": null,
   "metadata": {},
   "outputs": [],
   "source": [
    "plt.imshow(house.rotate(45))"
   ]
  },
  {
   "cell_type": "markdown",
   "metadata": {},
   "source": [
    "And here is resizing."
   ]
  },
  {
   "cell_type": "code",
   "execution_count": null,
   "metadata": {},
   "outputs": [],
   "source": [
    "plt.imshow(house.resize((16, 16)))"
   ]
  },
  {
   "cell_type": "markdown",
   "metadata": {},
   "source": [
    "We could crop an image to create a new sub-image, passing a tuple with the coordinates of the top-left and bottom-right corners."
   ]
  },
  {
   "cell_type": "code",
   "execution_count": null,
   "metadata": {},
   "outputs": [],
   "source": [
    "plt.imshow(house.crop((200, 200, 500, 500)))"
   ]
  },
  {
   "cell_type": "markdown",
   "metadata": {},
   "source": [
    "Then we could transpose the image and even paste it in another image."
   ]
  },
  {
   "cell_type": "code",
   "execution_count": null,
   "metadata": {},
   "outputs": [],
   "source": [
    "plt.imshow(house.crop((200, 200, 500, 500)).transpose(PIL.Image.ROTATE_180))"
   ]
  },
  {
   "cell_type": "code",
   "execution_count": null,
   "metadata": {},
   "outputs": [],
   "source": [
    "box = (200, 200, 500, 500)     # First two: coordinates of upper left corner; last two: coordinates of lower right\n",
    "house2 = copy.deepcopy(house)\n",
    "house2.paste(house2.crop(box).transpose(PIL.Image.ROTATE_180), box)\n",
    "plt.imshow(house2)"
   ]
  },
  {
   "cell_type": "markdown",
   "metadata": {},
   "source": [
    "## NumPy and Images\n",
    "\n",
    "We can create a NumPy array that holds the RGB values of an image like so:"
   ]
  },
  {
   "cell_type": "code",
   "execution_count": null,
   "metadata": {},
   "outputs": [],
   "source": [
    "house_arr = np.array(house.convert(\"RGB\"))\n",
    "house_arr.shape"
   ]
  },
  {
   "cell_type": "code",
   "execution_count": null,
   "metadata": {},
   "outputs": [],
   "source": [
    "house_arr[:5, :5, :3]"
   ]
  },
  {
   "cell_type": "code",
   "execution_count": null,
   "metadata": {},
   "outputs": [],
   "source": [
    "house_arr[:5, :5, 0]    # Red"
   ]
  },
  {
   "cell_type": "code",
   "execution_count": null,
   "metadata": {},
   "outputs": [],
   "source": [
    "plt.imshow(255 - house_arr[:, :, 0], cmap=\"Reds\")"
   ]
  },
  {
   "cell_type": "code",
   "execution_count": null,
   "metadata": {},
   "outputs": [],
   "source": [
    "plt.imshow(255 - house_arr[:, :, 1], cmap=\"Greens\")"
   ]
  },
  {
   "cell_type": "code",
   "execution_count": null,
   "metadata": {},
   "outputs": [],
   "source": [
    "plt.imshow(house_arr[:, :, 2], cmap=\"Blues\")"
   ]
  },
  {
   "cell_type": "markdown",
   "metadata": {},
   "source": [
    "We could create a histogram to see how many pixels have particular RGB intensities."
   ]
  },
  {
   "cell_type": "code",
   "execution_count": null,
   "metadata": {
    "scrolled": false
   },
   "outputs": [],
   "source": [
    "plt.hist(house_arr[:, :, 0].flatten(), bins=256)[2]"
   ]
  },
  {
   "cell_type": "code",
   "execution_count": null,
   "metadata": {},
   "outputs": [],
   "source": [
    "plt.hist(house_arr[:, :, 1].flatten(), bins=256)[2]"
   ]
  },
  {
   "cell_type": "code",
   "execution_count": null,
   "metadata": {},
   "outputs": [],
   "source": [
    "plt.hist(house_arr[:, :, 2].flatten(), bins=256)[2]"
   ]
  },
  {
   "cell_type": "markdown",
   "metadata": {},
   "source": [
    "## SciPy\n",
    "\n",
    "Now that we can turn images into NumPy arrays, we can use scipy to work with them as well. The code below is for interpolation when rescaling images. (I first introduced this code in my video course, [*Training Your Systems with Python Statistical Modeling*](https://www.packtpub.com/big-data-and-business-intelligence/training-your-systems-python-statistical-modeling-video).)"
   ]
  },
  {
   "cell_type": "code",
   "execution_count": null,
   "metadata": {
    "collapsed": true
   },
   "outputs": [],
   "source": [
    "def griddata_point_format(arr, normalize=True):\n",
    "    \"\"\"Converts grayscale image stored in ndarray arr into a format acceptable for griddata, returning a dict\n",
    "       If normalize is True, coordinates are on a 0-1 scale\"\"\"\n",
    "    \n",
    "    shape = arr.shape\n",
    "    x = np.arange(shape[0])\n",
    "    y = np.arange(shape[1])\n",
    "    coord_mat = np.transpose([np.tile(x, shape[1]), np.repeat(y, shape[0])])    # Construct a matrix of coordinates\n",
    "    values = arr[coord_mat[:, 0], coord_mat[:, 1]]    # Construct a 1D array containing the intensity values of the image\n",
    "                                                      # at the given coordinates\n",
    "    if normalize:\n",
    "        # All coordinates will be between 0 and 1\n",
    "        coord_mat = np.array(coord_mat, dtype=np.float64)\n",
    "        coord_mat[:, 0] = coord_mat[:, 0] / shape[0]    # Note that 1 is not actually attained; that's fine\n",
    "        coord_mat[:, 1] = coord_mat[:, 1] / shape[1]\n",
    "        \n",
    "    return {\"points\": coord_mat, \"values\": values}\n",
    "\n",
    "def interp_points(length, width, normalize=True):\n",
    "    \"\"\"Gets two NumPy arrays corresponding to the points where interpolation should occur\"\"\"\n",
    "    \n",
    "    grid_x, grid_y = np.mgrid[0:length, 0:width]\n",
    "    if normalize:\n",
    "        # This option should be used if normalize is True in griddata_point_format\n",
    "        # All points will be between 0 and 1\n",
    "        grid_x = np.array(grid_x, dtype=np.float64)\n",
    "        grid_y = np.array(grid_y, dtype=np.float64)\n",
    "        grid_x = grid_x / length\n",
    "        grid_y = grid_y / width\n",
    "    \n",
    "    return (grid_x, grid_y)"
   ]
  },
  {
   "cell_type": "code",
   "execution_count": null,
   "metadata": {},
   "outputs": [],
   "source": [
    "im0 = griddata(xi = interp_points(1024, 1024), **griddata_point_format(house_arr[:128, :128, 0]), method='cubic')\n",
    "im0"
   ]
  },
  {
   "cell_type": "code",
   "execution_count": null,
   "metadata": {},
   "outputs": [],
   "source": [
    "plt.imshow(255 - house_arr[:128, :128, 0], cmap=\"Reds\")"
   ]
  },
  {
   "cell_type": "code",
   "execution_count": null,
   "metadata": {},
   "outputs": [],
   "source": [
    "plt.imshow(255 - im0, cmap=\"Reds\")"
   ]
  },
  {
   "cell_type": "markdown",
   "metadata": {},
   "source": [
    "There's a lot more we can do with these packages; we will see more later."
   ]
  }
 ],
 "metadata": {
  "kernelspec": {
   "display_name": "Python 3",
   "language": "python",
   "name": "python3"
  },
  "language_info": {
   "codemirror_mode": {
    "name": "ipython",
    "version": 3
   },
   "file_extension": ".py",
   "mimetype": "text/x-python",
   "name": "python",
   "nbconvert_exporter": "python",
   "pygments_lexer": "ipython3",
   "version": "3.6.2"
  }
 },
 "nbformat": 4,
 "nbformat_minor": 2
}
