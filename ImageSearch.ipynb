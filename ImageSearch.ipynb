{
 "cells": [
  {
   "cell_type": "markdown",
   "metadata": {},
   "source": [
    "# Show, Don't Tell: Image Search\n",
    "*Curtis Miller*\n",
    "\n",
    "In this notebook I will demonstrate image search. By this I mean I will write an algorithm that accepts an image as input and will return a list of \"similar\" images as output.\n",
    "\n",
    "Search, in this case, means finding items that are \"similar\" some some specified item. In practice \"similarity\" needs to be defined, and different definitions may be useful for different applications. In this notebook, I define \"similar\" to mean that the color distribution of the pixels in the images are similar. In fact, I will refine the definition and say that similar images have pixels of similar color distributions in common regions of the image.\n",
    "\n",
    "I have a collection of images through which my algorithm will search. The algorithm, when given an image, will compute how similar each image in the collection is to the input image. This may not be the most efficient approach to search; my objective is not efficiency but to demonstrate how we can find \"similar\" images.\n",
    "\n",
    "We also need a way to describe the color distribution of an image. Here I bin RGB values (viewed as separate and independent channels) and use the discretized distributions to describe the colors in the image. When we have two of these distributions for an image, we then compute a metric known as the $\\chi^2$-distance:\n",
    "\n",
    "$$\\sum_{k = 1}^K \\frac{(x_k - y_k)^2}{x_k + y_k}$$\n",
    "\n",
    "where $K$ is the number of bins, $x_k$ is the (normalized) count of the $k^{\\text{th}}$ bin of one image, and $y_k$ is the equivalent number for the other image.\n",
    "\n",
    "An image is divided up into a 3x3 grid and these $\\chi^2$-distances are computed for each cell of the resulting grid. The sum of these distances (across all cells) is then used as the numeric descriptor of the similarity of the two images.\n",
    "\n",
    "Our first task is to load in the image data."
   ]
  },
  {
   "cell_type": "code",
   "execution_count": null,
   "metadata": {},
   "outputs": [],
   "source": [
    "import cv2\n",
    "import matplotlib.pyplot as plt\n",
    "import matplotlib\n",
    "import numpy as np\n",
    "import sys, os\n",
    "import pandas as pd\n",
    "%matplotlib inline\n",
    "matplotlib.rcParams['figure.figsize'] = (18, 16)"
   ]
  },
  {
   "cell_type": "code",
   "execution_count": null,
   "metadata": {},
   "outputs": [],
   "source": [
    "im_dir = \"images\"\n",
    "im0 = cv2.cvtColor(cv2.imread(im_dir + \"/ocean0.jpg\"), cv2.COLOR_BGR2RGB)\n",
    "plt.imshow(im0)"
   ]
  },
  {
   "cell_type": "code",
   "execution_count": null,
   "metadata": {},
   "outputs": [],
   "source": [
    "im1 = cv2.cvtColor(cv2.imread(im_dir + \"/ocean1.jpg\"), cv2.COLOR_BGR2RGB)\n",
    "plt.imshow(im1)"
   ]
  },
  {
   "cell_type": "markdown",
   "metadata": {},
   "source": [
    "Let's now prepare tools for creating color histograms."
   ]
  },
  {
   "cell_type": "code",
   "execution_count": null,
   "metadata": {},
   "outputs": [],
   "source": [
    "def col_256_bins(bincount = 10):\n",
    "    \"\"\"Returns a NumPy array with bincount number of bins that can be used to define histogram bins\"\"\"\n",
    "    delta = 256/bincount\n",
    "    return np.array(np.arange(bincount + 1) * delta, dtype = np.uint16)\n",
    "\n",
    "col_256_bins()"
   ]
  },
  {
   "cell_type": "code",
   "execution_count": null,
   "metadata": {},
   "outputs": [],
   "source": [
    "np.histogram(im0[:, :, 0].flatten(), bins=col_256_bins())"
   ]
  },
  {
   "cell_type": "code",
   "execution_count": null,
   "metadata": {},
   "outputs": [],
   "source": [
    "np.histogram(im0[:, :, 0].flatten(), bins=col_256_bins(), density=True)"
   ]
  },
  {
   "cell_type": "code",
   "execution_count": null,
   "metadata": {},
   "outputs": [],
   "source": [
    "plt.hist(im0[:, :, 0].flatten(), bins=col_256_bins())    \n",
    "# Red"
   ]
  },
  {
   "cell_type": "code",
   "execution_count": null,
   "metadata": {},
   "outputs": [],
   "source": [
    "plt.hist(im0[:, :, 1].flatten(), bins=col_256_bins())    # Green"
   ]
  },
  {
   "cell_type": "code",
   "execution_count": null,
   "metadata": {},
   "outputs": [],
   "source": [
    "plt.hist(im0[:, :, 2].flatten(), bins=col_256_bins())    # Blue"
   ]
  },
  {
   "cell_type": "markdown",
   "metadata": {},
   "source": [
    "Now I write tools that compute a distance between two images based on the histograms computed from the images."
   ]
  },
  {
   "cell_type": "code",
   "execution_count": null,
   "metadata": {},
   "outputs": [],
   "source": [
    "def chisq_dist(x, y):\n",
    "    \"\"\"Compute chi-square distance between histograms x and y\"\"\"\n",
    "    binscore = (x[0] - y[0])**2 / (x[0] + y[0])    # Putting [0] since np.histogram returns tuples\n",
    "    return np.nansum(binscore)"
   ]
  },
  {
   "cell_type": "code",
   "execution_count": null,
   "metadata": {},
   "outputs": [],
   "source": [
    "histbins = col_256_bins()\n",
    "chisq_dist(np.histogram(im0[0:266, 0:400, 0].flatten(), histbins, density=True),\n",
    "           np.histogram(im1[0:180, 0:320, 0].flatten(), histbins, density=True))"
   ]
  },
  {
   "cell_type": "code",
   "execution_count": null,
   "metadata": {},
   "outputs": [],
   "source": [
    "def image_dist(x, y, bins=col_256_bins()):\n",
    "    \"\"\"Compute the \"distance\" between images x and y\"\"\"\n",
    "    hx, wx, _ = x.shape\n",
    "    hy, wy, _ = y.shape\n",
    "    div = 3     # Number of divisions; a div x div grid\n",
    "    dist = 0    # Eventual distance measure\n",
    "    \n",
    "    # Iterate through the grid\n",
    "    for i in range(div):\n",
    "        for j in range(div):\n",
    "            hdim_x = (int((hx / div) * i), int((hx / div) * (i + 1)))\n",
    "            wdim_x = (int((wx / div) * j), int((wx / div) * (j + 1)))\n",
    "            \n",
    "            hdim_y = (int((hy / div) * i), int((hy / div) * (i + 1)))\n",
    "            wdim_y = (int((wy / div) * j), int((wy / div) * (j + 1)))\n",
    "            \n",
    "            subimage_x = x[hdim_x[0]:hdim_x[1], wdim_x[0]:wdim_x[1], :]\n",
    "            subimage_y = y[hdim_y[0]:hdim_y[1], wdim_y[0]:wdim_y[1], :]\n",
    "            \n",
    "            # Iterate through dimensions\n",
    "            for d in range(3):\n",
    "                chan_x = subimage_x[:, :, d].flatten()\n",
    "                chan_y = subimage_y[:, :, d].flatten()\n",
    "                \n",
    "                hist_x = np.histogram(chan_x, bins, density=True)[0]\n",
    "                hist_y = np.histogram(chan_y, bins, density=True)[0]\n",
    "                \n",
    "                dist += chisq_dist(hist_x, hist_y)\n",
    "    \n",
    "    return(dist)"
   ]
  },
  {
   "cell_type": "code",
   "execution_count": null,
   "metadata": {},
   "outputs": [],
   "source": [
    "image_dist(im0, im1)"
   ]
  },
  {
   "cell_type": "markdown",
   "metadata": {},
   "source": [
    "Let's now prepare to search images in folders to find \"similar\" images to an input image."
   ]
  },
  {
   "cell_type": "code",
   "execution_count": null,
   "metadata": {},
   "outputs": [],
   "source": [
    "imfiles = os.listdir(\"images/\")\n",
    "imfiles"
   ]
  },
  {
   "cell_type": "code",
   "execution_count": null,
   "metadata": {},
   "outputs": [],
   "source": [
    "image_list = [cv2.cvtColor(cv2.imread(im_dir + \"/\" + i), cv2.COLOR_BGR2RGB) for i in imfiles]\n",
    "image_dict = dict(zip(imfiles, image_list))\n",
    "\n",
    "def image_dist_list(image, imlist):\n",
    "    dists = np.zeros(len(imlist))\n",
    "    for i in range(len(imlist)):\n",
    "        dists[i] = image_dist(image, imlist[i])\n",
    "    \n",
    "    return dists"
   ]
  },
  {
   "cell_type": "markdown",
   "metadata": {},
   "source": [
    "Let's test the algorithm."
   ]
  },
  {
   "cell_type": "code",
   "execution_count": null,
   "metadata": {},
   "outputs": [],
   "source": [
    "im0_scores = pd.Series(image_dist_list(im0, image_list), index=imfiles)\n",
    "im0_scores"
   ]
  },
  {
   "cell_type": "code",
   "execution_count": null,
   "metadata": {},
   "outputs": [],
   "source": [
    "im0_scores.sort_values()"
   ]
  },
  {
   "cell_type": "code",
   "execution_count": null,
   "metadata": {},
   "outputs": [],
   "source": [
    "plt.imshow(image_dict['ocean0.jpg'])"
   ]
  },
  {
   "cell_type": "code",
   "execution_count": null,
   "metadata": {},
   "outputs": [],
   "source": [
    "plt.imshow(image_dict['ocean3.jpg'])"
   ]
  },
  {
   "cell_type": "code",
   "execution_count": null,
   "metadata": {},
   "outputs": [],
   "source": [
    "plt.imshow(image_dict['ocean4.jpg'])"
   ]
  },
  {
   "cell_type": "code",
   "execution_count": null,
   "metadata": {},
   "outputs": [],
   "source": [
    "plt.imshow(image_dict['city1.jpg'])"
   ]
  },
  {
   "cell_type": "code",
   "execution_count": null,
   "metadata": {},
   "outputs": [],
   "source": [
    "plt.imshow(image_dict['city7.jpeg'])"
   ]
  },
  {
   "cell_type": "code",
   "execution_count": null,
   "metadata": {
    "scrolled": false
   },
   "outputs": [],
   "source": [
    "plt.imshow(image_dict['forest2.jpeg'])"
   ]
  },
  {
   "cell_type": "code",
   "execution_count": null,
   "metadata": {
    "scrolled": false
   },
   "outputs": [],
   "source": [
    "plt.imshow(image_dict['forest8.jpg'])"
   ]
  },
  {
   "cell_type": "markdown",
   "metadata": {},
   "source": [
    "Based on this test it looks like our algorithm is doing a fair job of finding \"similar\" images according to our criteria. Two ocean images were matched, along with some \"similar\" city scapes; after that the images don't seem to bear a strong resemblance.\n",
    "\n",
    "This system could of course be improved, but this should give the basic idea of what is involved in an image search system, and it seems this simple approach already produces decent results."
   ]
  }
 ],
 "metadata": {
  "kernelspec": {
   "display_name": "Python 3",
   "language": "python",
   "name": "python3"
  },
  "language_info": {
   "codemirror_mode": {
    "name": "ipython",
    "version": 3
   },
   "file_extension": ".py",
   "mimetype": "text/x-python",
   "name": "python",
   "nbconvert_exporter": "python",
   "pygments_lexer": "ipython3",
   "version": "3.6.2"
  }
 },
 "nbformat": 4,
 "nbformat_minor": 2
}
